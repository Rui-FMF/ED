{
 "cells": [
  {
   "cell_type": "markdown",
   "id": "d04e613f",
   "metadata": {},
   "source": [
    "# Turbo Engine Failure Prediction"
   ]
  },
  {
   "cell_type": "markdown",
   "id": "07906c9f",
   "metadata": {},
   "source": [
    "#### Load Data and Libraries"
   ]
  },
  {
   "cell_type": "code",
   "execution_count": 26,
   "id": "1c3efa4e",
   "metadata": {},
   "outputs": [],
   "source": [
    "import numpy as np\n",
    "import pandas as pd\n",
    "import math\n",
    "from sklearn import svm\n",
    "from sklearn.neural_network import MLPClassifier\n",
    "from sklearn.ensemble import RandomForestClassifier\n",
    "\n",
    "train_data = pd.read_csv(\"train_FD001.csv\", sep=\";\")\n",
    "test_data = pd.read_csv(\"test_FD001_100ex.csv\", sep=\";\")"
   ]
  },
  {
   "cell_type": "code",
   "execution_count": 27,
   "id": "3431e11a",
   "metadata": {
    "scrolled": true
   },
   "outputs": [
    {
     "name": "stdout",
     "output_type": "stream",
     "text": [
      "3100 17531 0.15025931850128446\n"
     ]
    }
   ],
   "source": [
    "lenYes = len([1 for v in train_data[\"Failure_status\"] if v==\"yes\"])\n",
    "lenNo = len([1 for v in train_data[\"Failure_status\"] if v==\"no\"])\n",
    "print(lenYes, lenNo, lenYes/(lenYes+lenNo))"
   ]
  },
  {
   "cell_type": "markdown",
   "id": "ef030496",
   "metadata": {},
   "source": [
    "## Preprocessing"
   ]
  },
  {
   "cell_type": "markdown",
   "id": "3ebb3645",
   "metadata": {},
   "source": [
    "### Encode class labels\n",
    "Encoding is straightforward, as it is a binary classification problem."
   ]
  },
  {
   "cell_type": "code",
   "execution_count": 28,
   "id": "36073c54",
   "metadata": {},
   "outputs": [],
   "source": [
    "label_mapping = {\"yes\": 1,\n",
    "                 \"no\": 0}\n",
    "\n",
    "train_data[\"Failure_status\"] = train_data[\"Failure_status\"].map(label_mapping)\n",
    "test_data[\"Failure_status\"] = test_data[\"Failure_status\"].map(label_mapping)"
   ]
  },
  {
   "cell_type": "markdown",
   "id": "149f7bf9",
   "metadata": {},
   "source": [
    "### Separate labels and features"
   ]
  },
  {
   "cell_type": "code",
   "execution_count": 29,
   "id": "69f1df0a",
   "metadata": {},
   "outputs": [],
   "source": [
    "x = train_data.iloc[:, :-1]\n",
    "y = train_data.iloc[:, -1]\n",
    "\n",
    "x_test = test_data.iloc[:, :-1]\n",
    "y_test = test_data.iloc[:, -1]"
   ]
  },
  {
   "cell_type": "markdown",
   "id": "43aa04c0",
   "metadata": {},
   "source": [
    "### Normalization\n",
    "Since the profile of many of the features seems to approach a standard distribution, the group opted for a z-score normalization, which is not only appropriate for this dataset, it also has the added benefit of centering the data, which is import for some of the classifiers that will be used such as SVM and neural networks."
   ]
  },
  {
   "cell_type": "code",
   "execution_count": 30,
   "id": "217a7714",
   "metadata": {},
   "outputs": [],
   "source": [
    "from sklearn.preprocessing import StandardScaler\n",
    "\n",
    "stdScaler = StandardScaler()\n",
    "\n",
    "x = stdScaler.fit_transform(x)\n",
    "x_test = stdScaler.transform(x_test)"
   ]
  },
  {
   "cell_type": "markdown",
   "id": "43c7d5d7",
   "metadata": {},
   "source": [
    "### Dimension Reduction\n",
    "The chosen approach for dimension reduction was a PCA. The basis for this decision is that not only is it benefitial for some classifiers, it is also useful for denoising, as we already know that the dataset has added noise and the contribution of noise to the total variance of the features is likely to be less significant than the patterns that will allow us to predict the label for each feature. Additionally, one of the main disadvantages of using a PCA for dimension reduction is that it becomes hard to understand what each resulting feature represents, however that is not a problem for our particular dataset, as the starting features are already anonymous, so there is little downside to this approach.\n",
    "\n",
    "Since the features are anonymous, it is also not possible for us to know beforehand the ideal explained variance to be considered for this problem, so it is chosen based on the performance obtained by the classifiers, readjusting as needed for each classifier."
   ]
  },
  {
   "cell_type": "code",
   "execution_count": 31,
   "id": "742f0863",
   "metadata": {},
   "outputs": [
    {
     "name": "stdout",
     "output_type": "stream",
     "text": [
      "0.9134299234365061 9\n"
     ]
    }
   ],
   "source": [
    "from sklearn.decomposition import PCA\n",
    "\n",
    "pca = PCA(n_components=0.9, svd_solver='full') # set PCA to explain 90% of the variance\n",
    "x = pca.fit_transform(x)\n",
    "x_test = pca.transform(x_test)\n",
    "print(sum(pca.explained_variance_ratio_), x.shape[1]) # it takes 9 components to explain at least 90% of the variance"
   ]
  },
  {
   "cell_type": "markdown",
   "id": "2a3cefde",
   "metadata": {},
   "source": [
    "## Training"
   ]
  },
  {
   "cell_type": "markdown",
   "id": "6da106f6",
   "metadata": {},
   "source": [
    "### Neural Network"
   ]
  },
  {
   "cell_type": "markdown",
   "id": "b884345c",
   "metadata": {},
   "source": [
    "Another model we experimented with was the Neural Network, the Multi-Layer Perceptron from sklearn. There were a lot of parameters to experiment with for the parameter grid, for the solver, activation and learning rate, we picked some of the ussually recomended choices and set them against eachother. The same went for the numerical values of alpha and learning rate init, however after the first trial of the later, it was clear that 0.001 was doing far better than other choices. The forced parameter max_iter, serves to make sure all of the combinations include 1000 iterations of maximum instead of the default 200, for them to have enough to converge. Finally the hidden layers were experimented with 2 and 3 layers, of sizes based on the number of features and 50% more and less, the best results happened when it had 12 sized layers, and having 3 layers didn't seem to give it a clear advantage over 2. "
   ]
  },
  {
   "cell_type": "code",
   "execution_count": null,
   "id": "87559936",
   "metadata": {
    "scrolled": true
   },
   "outputs": [],
   "source": [
    "from sklearn.neural_network import MLPClassifier\n",
    "from sklearn.model_selection import GridSearchCV\n",
    "from sklearn.metrics import classification_report\n",
    "\n",
    "MLPClassifier().get_params()\n",
    "\n",
    "parameter_grid = [\n",
    "    {\n",
    "        'solver': ['adam', 'sgd'],\n",
    "        'max_iter': [1000],\n",
    "        'hidden_layer_sizes': [(9,9), (12,12),(12,12,12)],\n",
    "        'activation': ['tanh', 'relu'],\n",
    "        'alpha': [0.0001, 0.05],\n",
    "        'learning_rate': ['constant', 'adaptive'],\n",
    "        'learning_rate_init': [0.001]\n",
    "    }\n",
    "]\n",
    "\n",
    "grid_search = GridSearchCV(MLPClassifier(), parameter_grid, cv=5, scoring=\"accuracy\", verbose=0)\n",
    "grid_search.fit(x, y)\n",
    "results = pd.DataFrame(grid_search.cv_results_)\n",
    "y_pred = grid_search.predict(x_test)\n",
    "\n",
    "print(\"\\nCrossvalidation statistics:\")\n",
    "results = results[[\"rank_test_score\", \"params\", \"mean_test_score\", \"std_test_score\"]].sort_values(\"rank_test_score\")\n",
    "results = results.drop('params', axis=1).join(pd.DataFrame(results.params.values.tolist()))\n",
    "pd.set_option(\"display.max_colwidth\", None)\n",
    "pd.set_option(\"display.max_rows\", 1000)\n",
    "display(results.style.hide_index())\n",
    "\n",
    "print(\"Classifier performance for best parameters:\")\n",
    "print(classification_report(y_test, y_pred))"
   ]
  },
  {
   "cell_type": "markdown",
   "id": "405da03a",
   "metadata": {},
   "source": [
    "## Ensemble"
   ]
  },
  {
   "cell_type": "markdown",
   "id": "3957f455",
   "metadata": {},
   "source": [
    "In an effort to try different options, we briefly looked at ensemble classifiers as a curiosity. Taking the best parameters for each of our classifiers, we make 3 classifiers and build a voting classifiers from it. Then train and test it considering 5-fold cross validation. Unfortunally, because we only have 3 classifiers all with relativy large accuracies as they stand, the ensemble model doesn't bring improvements, in fact the Neural Network and the Random forest likely vote against the SVM's correct prediction on the occassions that bring the accuracy down. Regardless we can see trough the confusion matrix that only 1 false positive and 7 false negatives appear."
   ]
  },
  {
   "cell_type": "code",
   "execution_count": 20,
   "id": "b4905dbc",
   "metadata": {},
   "outputs": [],
   "source": [
    "from sklearn.model_selection import StratifiedKFold\n",
    "from sklearn.metrics import confusion_matrix, ConfusionMatrixDisplay, classification_report\n",
    "\n",
    "def get_confusion_matrix(clf, y_pred_test, y_test):\n",
    "    cm = confusion_matrix(y_test, y_pred_test, labels=clf.classes_)\n",
    "    return cm\n",
    "\n",
    "def display_cm(clf, cm):\n",
    "    disp = ConfusionMatrixDisplay(confusion_matrix=cm, display_labels=clf.classes_)\n",
    "    disp.plot()\n",
    "    \n"
   ]
  },
  {
   "cell_type": "code",
   "execution_count": 24,
   "id": "cd56fe34",
   "metadata": {},
   "outputs": [],
   "source": [
    "from sklearn.ensemble import VotingClassifier\n",
    "\n",
    "nn_clf1 = MLPClassifier(activation='relu', alpha=0.05, hidden_layer_sizes=(12,12), learning_rate='adaptive', learning_rate_init=0.001, max_iter=1000, solver='adam')\n",
    "rf_clf = RandomForestClassifier(criterion='entropy', max_depth=5, max_features='log2', n_estimators=500, n_jobs=-1, random_state=0)\n",
    "svm_clf = svm.SVC(gamma=100, C=10)\n",
    "\n",
    "ensemble_clf = VotingClassifier(estimators=[('mlp1',nn_clf1), ('rf',rf_clf), ('svm',svm_clf)], voting='soft')"
   ]
  },
  {
   "cell_type": "code",
   "execution_count": 22,
   "id": "80f9e4f4",
   "metadata": {},
   "outputs": [
    {
     "name": "stdout",
     "output_type": "stream",
     "text": [
      "Fold: 1, Class dist.: [14024  2480], Acc: 0.962\n",
      "Fold: 2, Class dist.: [14025  2480], Acc: 0.958\n",
      "Fold: 3, Class dist.: [14025  2480], Acc: 0.962\n",
      "Fold: 4, Class dist.: [14025  2480], Acc: 0.963\n",
      "Fold: 5, Class dist.: [14025  2480], Acc: 0.960\n",
      "\n",
      "CV accuracy: 0.961 +/- 0.002\n",
      "\n",
      " Generalization on the test set  \n",
      " \n",
      "\n",
      "              precision    recall  f1-score   support\n",
      "\n",
      "           0       0.91      0.99      0.95        75\n",
      "           1       0.95      0.72      0.82        25\n",
      "\n",
      "    accuracy                           0.92       100\n",
      "   macro avg       0.93      0.85      0.88       100\n",
      "weighted avg       0.92      0.92      0.92       100\n",
      "\n"
     ]
    },
    {
     "data": {
      "image/png": "[encoded data removed]",
      "text/plain": [
       "<Figure size 432x288 with 2 Axes>"
      ]
     },
     "metadata": {
      "needs_background": "light"
     },
     "output_type": "display_data"
    }
   ],
   "source": [
    "scores=[];    \n",
    "kfold = StratifiedKFold(n_splits=5,  shuffle=True).split(x, y)\n",
    "\n",
    "for k, (train, test) in enumerate(kfold):\n",
    "    Xtrain=stdScaler.fit_transform(x[train])\n",
    "    Xtest=stdScaler.transform(x[test])    \n",
    "    ensemble_clf.fit(Xtrain, y[train])\n",
    "    score = ensemble_clf.score(Xtest, y[test])\n",
    "    scores.append(score)\n",
    "    print('Fold: %s, Class dist.: %s, Acc: %.3f' % (k+1, np.bincount(y[train]), score))\n",
    "   \n",
    "print('\\nCV accuracy: %.3f +/- %.3f' % (np.mean(scores), np.std(scores)))\n",
    "\n",
    "##Model trained with all training data\n",
    "print('\\n Generalization on the test set  \\n \\n')\n",
    "\n",
    "Xtr=stdScaler.fit_transform(x)\n",
    "Xtest=stdScaler.transform(x_test)    \n",
    "ensemble_clf.fit(Xtr, y)\n",
    "y_pred=ensemble_clf.predict(Xtest)\n",
    "print(classification_report(y_test,y_pred))\n",
    "\n",
    "cm = get_confusion_matrix(ensemble_clf, y_pred, y_test)\n",
    "display_cm(ensemble_clf, cm)"
   ]
  },
  {
   "cell_type": "code",
   "execution_count": null,
   "id": "5ffd598f",
   "metadata": {},
   "outputs": [],
   "source": []
  }
 ],
 "metadata": {
  "kernelspec": {
   "display_name": "Python 3 (ipykernel)",
   "language": "python",
   "name": "python3"
  },
  "language_info": {
   "codemirror_mode": {
    "name": "ipython",
    "version": 3
   },
   "file_extension": ".py",
   "mimetype": "text/x-python",
   "name": "python",
   "nbconvert_exporter": "python",
   "pygments_lexer": "ipython3",
   "version": "3.9.7"
  }
 },
 "nbformat": 4,
 "nbformat_minor": 5
}
